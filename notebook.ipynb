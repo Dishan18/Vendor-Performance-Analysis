{
 "cells": [
  {
   "cell_type": "code",
   "execution_count": 9,
   "id": "526ca09f",
   "metadata": {},
   "outputs": [],
   "source": [
    "import pandas as pd\n",
    "import os\n",
    "from sqlalchemy import create_engine\n",
    "import logging\n",
    "import time\n",
    "\n",
    "logging.basicConfig(\n",
    "    filename='logs/data_ingestion.log',\n",
    "    level=logging.DEBUG,\n",
    "    format='%(asctime)s - %(levelname)s - %(message)s',\n",
    "    filemode=\"a\"\n",
    ")\n",
    "\n",
    "engine = create_engine('sqlite:///vendor_data.db')\n",
    "\n",
    "def ingest_db(df, table_name, engine):\n",
    "    '''ingest df into db'''\n",
    "    df.to_sql(table_name, con=engine, if_exists = 'replace', index = False)\n",
    "\n",
    "def load_raw_data():\n",
    "    '''load CSV as df and ingest into db'''\n",
    "    start = time.time()\n",
    "    for file in os.listdir('data'):\n",
    "        if '.csv' in file:\n",
    "            df = pd.read_csv('data/'+file)\n",
    "            logging.info(f'Ingesting {file} in db')\n",
    "            ingest_db(df, file[:-4], engine)\n",
    "    end = time.time()        \n",
    "    total_time = (end - start)/60\n",
    "    logging.info('Ingestion of Data Completed')\n",
    "    logging.info(f'Total time taken to ingest data is {total_time} minutes')\n",
    "\n",
    "if __name__ == '__main__':\n",
    "    load_raw_data()    \n"
   ]
  }
 ],
 "metadata": {
  "kernelspec": {
   "display_name": "Python 3",
   "language": "python",
   "name": "python3"
  },
  "language_info": {
   "codemirror_mode": {
    "name": "ipython",
    "version": 3
   },
   "file_extension": ".py",
   "mimetype": "text/x-python",
   "name": "python",
   "nbconvert_exporter": "python",
   "pygments_lexer": "ipython3",
   "version": "3.11.9"
  }
 },
 "nbformat": 4,
 "nbformat_minor": 5
}
